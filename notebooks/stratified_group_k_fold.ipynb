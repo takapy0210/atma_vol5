{
 "cells": [
  {
   "cell_type": "code",
   "execution_count": 1,
   "metadata": {},
   "outputs": [],
   "source": [
    "import os\n",
    "import sys\n",
    "import random\n",
    "import numpy as np\n",
    "import pandas as pd\n",
    "from collections import Counter, defaultdict\n",
    "\n",
    "pd.set_option('display.max_columns', 300)\n",
    "pd.set_option('display.max_rows', 300)\n",
    "pd.set_option('display.max_colwidth', 5000)"
   ]
  },
  {
   "cell_type": "code",
   "execution_count": 21,
   "metadata": {},
   "outputs": [],
   "source": [
    "FEATURE_DIR_NAME = '../data/features/'\n",
    "RAW_DATA_DIR_NAME = '../data/raw/'"
   ]
  },
  {
   "cell_type": "code",
   "execution_count": 26,
   "metadata": {},
   "outputs": [],
   "source": [
    "train = pd.read_csv(RAW_DATA_DIR_NAME + 'train.csv')[['chip_id']]"
   ]
  },
  {
   "cell_type": "code",
   "execution_count": 29,
   "metadata": {},
   "outputs": [
    {
     "data": {
      "text/plain": [
       "['79ad4647da6de6425abf',\n",
       " 'c695a1e61e002b34e556',\n",
       " '6718e7f83c824b1e436d',\n",
       " '0b9dbf13f938efd5717f',\n",
       " '84b788fdc5e779f8a0df',\n",
       " '118c70535bd753a86615']"
      ]
     },
     "execution_count": 29,
     "metadata": {},
     "output_type": "execute_result"
    }
   ],
   "source": [
    "train['chip_id'].unique().tolist()"
   ]
  },
  {
   "cell_type": "code",
   "execution_count": 3,
   "metadata": {},
   "outputs": [],
   "source": [
    "train = pd.read_csv(RAW_DATA_DIR_NAME + 'train.csv')\n",
    "train['chip_id'], _ = pd.factorize(train['chip_id'])\n",
    "y = train.target"
   ]
  },
  {
   "cell_type": "code",
   "execution_count": 4,
   "metadata": {},
   "outputs": [
    {
     "data": {
      "text/html": [
       "<div>\n",
       "<style scoped>\n",
       "    .dataframe tbody tr th:only-of-type {\n",
       "        vertical-align: middle;\n",
       "    }\n",
       "\n",
       "    .dataframe tbody tr th {\n",
       "        vertical-align: top;\n",
       "    }\n",
       "\n",
       "    .dataframe thead th {\n",
       "        text-align: right;\n",
       "    }\n",
       "</style>\n",
       "<table border=\"1\" class=\"dataframe\">\n",
       "  <thead>\n",
       "    <tr style=\"text-align: right;\">\n",
       "      <th></th>\n",
       "      <th>spectrum_id</th>\n",
       "      <th>spectrum_filename</th>\n",
       "      <th>chip_id</th>\n",
       "      <th>exc_wl</th>\n",
       "      <th>layout_a</th>\n",
       "      <th>layout_x</th>\n",
       "      <th>layout_y</th>\n",
       "      <th>pos_x</th>\n",
       "      <th>target</th>\n",
       "    </tr>\n",
       "  </thead>\n",
       "  <tbody>\n",
       "    <tr>\n",
       "      <th>0</th>\n",
       "      <td>000da4633378740f1ee8</td>\n",
       "      <td>b2e223339f4abce9b400.dat</td>\n",
       "      <td>0</td>\n",
       "      <td>850</td>\n",
       "      <td>2</td>\n",
       "      <td>36</td>\n",
       "      <td>140</td>\n",
       "      <td>1313.0810</td>\n",
       "      <td>0</td>\n",
       "    </tr>\n",
       "    <tr>\n",
       "      <th>1</th>\n",
       "      <td>000ed1a5a9fe0ad2b7dd</td>\n",
       "      <td>e2f150a503244145e7ce.dat</td>\n",
       "      <td>0</td>\n",
       "      <td>780</td>\n",
       "      <td>3</td>\n",
       "      <td>0</td>\n",
       "      <td>168</td>\n",
       "      <td>159.4150</td>\n",
       "      <td>0</td>\n",
       "    </tr>\n",
       "    <tr>\n",
       "      <th>2</th>\n",
       "      <td>0016e3322c4ce0700f9a</td>\n",
       "      <td>3d58b7ccaee157979cf0.dat</td>\n",
       "      <td>1</td>\n",
       "      <td>780</td>\n",
       "      <td>1</td>\n",
       "      <td>34</td>\n",
       "      <td>29</td>\n",
       "      <td>-610.7688</td>\n",
       "      <td>0</td>\n",
       "    </tr>\n",
       "    <tr>\n",
       "      <th>3</th>\n",
       "      <td>00256bd0f8c6cf5f59c8</td>\n",
       "      <td>ed3641184d3b7c0ae703.dat</td>\n",
       "      <td>1</td>\n",
       "      <td>780</td>\n",
       "      <td>2</td>\n",
       "      <td>32</td>\n",
       "      <td>139</td>\n",
       "      <td>1214.6180</td>\n",
       "      <td>0</td>\n",
       "    </tr>\n",
       "    <tr>\n",
       "      <th>4</th>\n",
       "      <td>003483ee5ae313d37590</td>\n",
       "      <td>4c63418d39f86dfab9bb.dat</td>\n",
       "      <td>1</td>\n",
       "      <td>780</td>\n",
       "      <td>0</td>\n",
       "      <td>45</td>\n",
       "      <td>85</td>\n",
       "      <td>-257.6161</td>\n",
       "      <td>0</td>\n",
       "    </tr>\n",
       "    <tr>\n",
       "      <th>...</th>\n",
       "      <td>...</td>\n",
       "      <td>...</td>\n",
       "      <td>...</td>\n",
       "      <td>...</td>\n",
       "      <td>...</td>\n",
       "      <td>...</td>\n",
       "      <td>...</td>\n",
       "      <td>...</td>\n",
       "      <td>...</td>\n",
       "    </tr>\n",
       "    <tr>\n",
       "      <th>7431</th>\n",
       "      <td>ffcc2d0e80130bcd1f66</td>\n",
       "      <td>677582af16aeb72c01df.dat</td>\n",
       "      <td>3</td>\n",
       "      <td>850</td>\n",
       "      <td>0</td>\n",
       "      <td>8</td>\n",
       "      <td>56</td>\n",
       "      <td>-1441.3620</td>\n",
       "      <td>0</td>\n",
       "    </tr>\n",
       "    <tr>\n",
       "      <th>7432</th>\n",
       "      <td>ffd86d57b9d44f10c7d0</td>\n",
       "      <td>6f23369fb8e0d1fde118.dat</td>\n",
       "      <td>4</td>\n",
       "      <td>850</td>\n",
       "      <td>3</td>\n",
       "      <td>12</td>\n",
       "      <td>2</td>\n",
       "      <td>543.2881</td>\n",
       "      <td>0</td>\n",
       "    </tr>\n",
       "    <tr>\n",
       "      <th>7433</th>\n",
       "      <td>ffdc78c1ca0a8c5a689f</td>\n",
       "      <td>825df3fcf8ce0570f0be.dat</td>\n",
       "      <td>2</td>\n",
       "      <td>780</td>\n",
       "      <td>0</td>\n",
       "      <td>41</td>\n",
       "      <td>102</td>\n",
       "      <td>-383.0251</td>\n",
       "      <td>0</td>\n",
       "    </tr>\n",
       "    <tr>\n",
       "      <th>7434</th>\n",
       "      <td>ffe1a53afdbab5ebddeb</td>\n",
       "      <td>5a2bd19c41cb6da70b33.dat</td>\n",
       "      <td>4</td>\n",
       "      <td>850</td>\n",
       "      <td>3</td>\n",
       "      <td>3</td>\n",
       "      <td>124</td>\n",
       "      <td>259.5428</td>\n",
       "      <td>0</td>\n",
       "    </tr>\n",
       "    <tr>\n",
       "      <th>7435</th>\n",
       "      <td>ffe37357ccb2029449af</td>\n",
       "      <td>f5c909d6c7739cc6a275.dat</td>\n",
       "      <td>5</td>\n",
       "      <td>850</td>\n",
       "      <td>3</td>\n",
       "      <td>19</td>\n",
       "      <td>36</td>\n",
       "      <td>769.7350</td>\n",
       "      <td>0</td>\n",
       "    </tr>\n",
       "  </tbody>\n",
       "</table>\n",
       "<p>7436 rows × 9 columns</p>\n",
       "</div>"
      ],
      "text/plain": [
       "               spectrum_id         spectrum_filename  chip_id  exc_wl  \\\n",
       "0     000da4633378740f1ee8  b2e223339f4abce9b400.dat        0     850   \n",
       "1     000ed1a5a9fe0ad2b7dd  e2f150a503244145e7ce.dat        0     780   \n",
       "2     0016e3322c4ce0700f9a  3d58b7ccaee157979cf0.dat        1     780   \n",
       "3     00256bd0f8c6cf5f59c8  ed3641184d3b7c0ae703.dat        1     780   \n",
       "4     003483ee5ae313d37590  4c63418d39f86dfab9bb.dat        1     780   \n",
       "...                    ...                       ...      ...     ...   \n",
       "7431  ffcc2d0e80130bcd1f66  677582af16aeb72c01df.dat        3     850   \n",
       "7432  ffd86d57b9d44f10c7d0  6f23369fb8e0d1fde118.dat        4     850   \n",
       "7433  ffdc78c1ca0a8c5a689f  825df3fcf8ce0570f0be.dat        2     780   \n",
       "7434  ffe1a53afdbab5ebddeb  5a2bd19c41cb6da70b33.dat        4     850   \n",
       "7435  ffe37357ccb2029449af  f5c909d6c7739cc6a275.dat        5     850   \n",
       "\n",
       "      layout_a  layout_x  layout_y      pos_x  target  \n",
       "0            2        36       140  1313.0810       0  \n",
       "1            3         0       168   159.4150       0  \n",
       "2            1        34        29  -610.7688       0  \n",
       "3            2        32       139  1214.6180       0  \n",
       "4            0        45        85  -257.6161       0  \n",
       "...        ...       ...       ...        ...     ...  \n",
       "7431         0         8        56 -1441.3620       0  \n",
       "7432         3        12         2   543.2881       0  \n",
       "7433         0        41       102  -383.0251       0  \n",
       "7434         3         3       124   259.5428       0  \n",
       "7435         3        19        36   769.7350       0  \n",
       "\n",
       "[7436 rows x 9 columns]"
      ]
     },
     "execution_count": 4,
     "metadata": {},
     "output_type": "execute_result"
    }
   ],
   "source": [
    "train"
   ]
  },
  {
   "cell_type": "code",
   "execution_count": 5,
   "metadata": {},
   "outputs": [
    {
     "data": {
      "text/plain": [
       "0       0\n",
       "1       0\n",
       "2       0\n",
       "3       0\n",
       "4       0\n",
       "       ..\n",
       "7431    0\n",
       "7432    0\n",
       "7433    0\n",
       "7434    0\n",
       "7435    0\n",
       "Name: target, Length: 7436, dtype: int64"
      ]
     },
     "execution_count": 5,
     "metadata": {},
     "output_type": "execute_result"
    }
   ],
   "source": [
    "y"
   ]
  },
  {
   "cell_type": "code",
   "execution_count": 6,
   "metadata": {},
   "outputs": [],
   "source": [
    "def stratified_group_k_fold(X, y, groups, k, seed=None):\n",
    "    labels_num = np.max(y) + 1\n",
    "    y_counts_per_group = defaultdict(lambda: np.zeros(labels_num))\n",
    "    y_distr = Counter()\n",
    "    for label, g in zip(y, groups):\n",
    "        y_counts_per_group[g][label] += 1\n",
    "        y_distr[label] += 1\n",
    "\n",
    "    y_counts_per_fold = defaultdict(lambda: np.zeros(labels_num))\n",
    "    groups_per_fold = defaultdict(set)\n",
    "\n",
    "    def eval_y_counts_per_fold(y_counts, fold):\n",
    "        y_counts_per_fold[fold] += y_counts\n",
    "        std_per_label = []\n",
    "        for label in range(labels_num):\n",
    "            label_std = np.std([y_counts_per_fold[i][label] / y_distr[label] for i in range(k)])\n",
    "            std_per_label.append(label_std)\n",
    "        y_counts_per_fold[fold] -= y_counts\n",
    "        return np.mean(std_per_label)\n",
    "\n",
    "    groups_and_y_counts = list(y_counts_per_group.items())\n",
    "    random.Random(seed).shuffle(groups_and_y_counts)\n",
    "\n",
    "    for g, y_counts in sorted(groups_and_y_counts, key=lambda x: -np.std(x[1])):\n",
    "        best_fold = None\n",
    "        min_eval = None\n",
    "        for i in range(k):\n",
    "            fold_eval = eval_y_counts_per_fold(y_counts, i)\n",
    "            if min_eval is None or fold_eval < min_eval:\n",
    "                min_eval = fold_eval\n",
    "                best_fold = i\n",
    "        y_counts_per_fold[best_fold] += y_counts\n",
    "        groups_per_fold[best_fold].add(g)\n",
    "\n",
    "    all_groups = set(groups)\n",
    "    for i in range(k):\n",
    "        train_groups = all_groups - groups_per_fold[i]\n",
    "        test_groups = groups_per_fold[i]\n",
    "\n",
    "        train_indices = [i for i, g in enumerate(groups) if g in train_groups]\n",
    "        test_indices = [i for i, g in enumerate(groups) if g in test_groups]\n",
    "\n",
    "        yield train_indices, test_indices"
   ]
  },
  {
   "cell_type": "code",
   "execution_count": 10,
   "metadata": {},
   "outputs": [
    {
     "ename": "ValueError",
     "evalue": "too many values to unpack (expected 2)",
     "output_type": "error",
     "traceback": [
      "\u001b[0;31m---------------------------------------------------------------------------\u001b[0m",
      "\u001b[0;31mValueError\u001b[0m                                Traceback (most recent call last)",
      "\u001b[0;32m<ipython-input-10-d4cdacd2d5af>\u001b[0m in \u001b[0;36m<module>\u001b[0;34m\u001b[0m\n\u001b[0;32m----> 1\u001b[0;31m \u001b[0mtrn_idx\u001b[0m\u001b[0;34m,\u001b[0m \u001b[0mval_idx\u001b[0m \u001b[0;34m=\u001b[0m \u001b[0mstratified_group_k_fold\u001b[0m\u001b[0;34m(\u001b[0m\u001b[0mtrain\u001b[0m\u001b[0;34m,\u001b[0m \u001b[0my\u001b[0m\u001b[0;34m,\u001b[0m \u001b[0mtrain\u001b[0m\u001b[0;34m.\u001b[0m\u001b[0mchip_id\u001b[0m\u001b[0;34m,\u001b[0m \u001b[0mk\u001b[0m\u001b[0;34m=\u001b[0m\u001b[0;36m5\u001b[0m\u001b[0;34m,\u001b[0m \u001b[0mseed\u001b[0m\u001b[0;34m=\u001b[0m\u001b[0;36m42\u001b[0m\u001b[0;34m)\u001b[0m\u001b[0;34m\u001b[0m\u001b[0;34m\u001b[0m\u001b[0m\n\u001b[0m",
      "\u001b[0;31mValueError\u001b[0m: too many values to unpack (expected 2)"
     ]
    }
   ],
   "source": [
    "trn_idx, val_idx = stratified_group_k_fold(train, y, train.chip_id, k=5, seed=42)"
   ]
  },
  {
   "cell_type": "code",
   "execution_count": 12,
   "metadata": {},
   "outputs": [
    {
     "name": "stdout",
     "output_type": "stream",
     "text": [
      "fold0 --------------------------------------------------\n",
      "train samples: 5631 \t\t| chip id: [0 1 2 3 4] \t\t| positive ratio:0.0297\n",
      "valid samples: 1805 \t\t| chip id: [5] \t\t\t| positive ratio:0.0382\n",
      "fold1 --------------------------------------------------\n",
      "train samples: 5615 \t\t| chip id: [1 2 3 4 5] \t\t| positive ratio:0.0203\n",
      "valid samples: 1821 \t\t| chip id: [0] \t\t\t| positive ratio:0.067\n",
      "fold2 --------------------------------------------------\n",
      "train samples: 6242 \t\t| chip id: [0 1 2 3 5] \t\t| positive ratio:0.0356\n",
      "valid samples: 1194 \t\t| chip id: [4] \t\t\t| positive ratio:0.0117\n",
      "fold3 --------------------------------------------------\n",
      "train samples: 6288 \t\t| chip id: [0 1 3 4 5] \t\t| positive ratio:0.0356\n",
      "valid samples: 1148 \t\t| chip id: [2] \t\t\t| positive ratio:0.0105\n",
      "fold4 --------------------------------------------------\n",
      "train samples: 5968 \t\t| chip id: [0 2 4 5] \t\t| positive ratio:0.0364\n",
      "valid samples: 1468 \t\t| chip id: [1 3] \t\t\t| positive ratio:0.0129\n"
     ]
    }
   ],
   "source": [
    "stratified_group_k_list = []\n",
    "for fold, (trn_idx, val_idx) in enumerate(stratified_group_k_fold(train, y, train.chip_id, k=5, seed=42)):\n",
    "    trn_x, trn_y = train.iloc[trn_idx], y.iloc[trn_idx]\n",
    "    val_x, val_y = train.iloc[val_idx], y.iloc[val_idx]\n",
    "    \n",
    "    stratified_group_k_list.append((trn_idx, val_idx))\n",
    "\n",
    "    print(f'fold{fold}', '-'*50)\n",
    "    print(f'train samples: {len(trn_x)} \\t\\t| chip id: {train.chip_id[trn_idx].unique()} \\t\\t| positive ratio:{trn_y.mean():.3}')\n",
    "    print(f'valid samples: {len(val_x)} \\t\\t| chip id: {train.chip_id[val_idx].unique()} \\t\\t\\t| positive ratio:{val_y.mean():.3}')"
   ]
  },
  {
   "cell_type": "code",
   "execution_count": 15,
   "metadata": {},
   "outputs": [],
   "source": [
    "id1, id2 = stratified_group_k_list[0]"
   ]
  },
  {
   "cell_type": "code",
   "execution_count": 20,
   "metadata": {
    "scrolled": true
   },
   "outputs": [
    {
     "data": {
      "text/plain": [
       "5631"
      ]
     },
     "execution_count": 20,
     "metadata": {},
     "output_type": "execute_result"
    }
   ],
   "source": [
    "len(id1)"
   ]
  },
  {
   "cell_type": "code",
   "execution_count": 19,
   "metadata": {},
   "outputs": [
    {
     "data": {
      "text/plain": [
       "1805"
      ]
     },
     "execution_count": 19,
     "metadata": {},
     "output_type": "execute_result"
    }
   ],
   "source": [
    "len(id2)"
   ]
  },
  {
   "cell_type": "code",
   "execution_count": null,
   "metadata": {},
   "outputs": [],
   "source": []
  }
 ],
 "metadata": {
  "kernelspec": {
   "display_name": "Python 3",
   "language": "python",
   "name": "python3"
  },
  "language_info": {
   "codemirror_mode": {
    "name": "ipython",
    "version": 3
   },
   "file_extension": ".py",
   "mimetype": "text/x-python",
   "name": "python",
   "nbconvert_exporter": "python",
   "pygments_lexer": "ipython3",
   "version": "3.7.2"
  }
 },
 "nbformat": 4,
 "nbformat_minor": 4
}
