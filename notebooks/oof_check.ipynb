{
 "cells": [
  {
   "cell_type": "code",
   "execution_count": 159,
   "metadata": {},
   "outputs": [],
   "source": [
    "import pandas as pd\n",
    "import numpy as np\n",
    "import os\n",
    "from sklearn.metrics import average_precision_score\n",
    "\n",
    "pd.set_option('display.max_columns', 300)\n",
    "pd.set_option('display.max_rows', 300)\n",
    "pd.set_option('display.max_colwidth', 5000)\n",
    "pd.options.display.float_format = '{:.10f}'.format\n",
    "\n",
    "FEATURE_DIR_NAME = '../data/features/'\n",
    "RAW_DATA_DIR_NAME = '../data/raw/'"
   ]
  },
  {
   "cell_type": "code",
   "execution_count": 162,
   "metadata": {},
   "outputs": [
    {
     "data": {
      "text/plain": [
       "['.DS_Store',\n",
       " 'cat_StratifiedKFold_06061151depth5_pl_train.pkl',\n",
       " 'cat_StratifiedKFold_06061151depth5_pl_train_minmax.pkl',\n",
       " 'cat_StratifiedKFold_06061151depth5_pl_train_normalized.pkl',\n",
       " 'cat_StratifiedKFold_06061405depth5_pl_train.pkl',\n",
       " 'cat_StratifiedKFold_06061405depth5_pl_train_minmax.pkl',\n",
       " 'cat_StratifiedKFold_06061405depth5_pl_train_normalized.pkl',\n",
       " 'lgb_StratifiedKFold_06061146_train.pkl',\n",
       " 'lgb_StratifiedKFold_06061146_train_minmax.pkl',\n",
       " 'lgb_StratifiedKFold_06061146_train_normalized.pkl',\n",
       " 'lgb_StratifiedKFold_06061325cat_lgbm_pl45_55_add_train.pkl',\n",
       " 'lgb_StratifiedKFold_06061325cat_lgbm_pl45_55_add_train_minmax.pkl',\n",
       " 'lgb_StratifiedKFold_06061325cat_lgbm_pl45_55_add_train_normalized.pkl']"
      ]
     },
     "execution_count": 162,
     "metadata": {},
     "output_type": "execute_result"
    }
   ],
   "source": [
    "sorted(os.listdir('./oof'))"
   ]
  },
  {
   "cell_type": "code",
   "execution_count": 134,
   "metadata": {},
   "outputs": [],
   "source": [
    "camaro_48 = pd.DataFrame(np.load('./048_wave_regularized3_noise010_with_layout_features_pseudo.csv.npy'))\n",
    "camaro_66 = pd.DataFrame(np.load('./066_convnet1d_noise020_l64_k7_d8_with_layout_pseudo.csv.npy'))"
   ]
  },
  {
   "cell_type": "code",
   "execution_count": 163,
   "metadata": {},
   "outputs": [],
   "source": [
    "oof_lgb_train = pd.read_pickle('./oof/lgb_StratifiedKFold_06061146_train.pkl')\n",
    "oof_lgb_train_minmax = pd.read_pickle('./oof/lgb_StratifiedKFold_06061146_train_minmax.pkl')\n",
    "oof_lgb_train_normalized = pd.read_pickle('./oof/lgb_StratifiedKFold_06061146_train_normalized.pkl')\n",
    "\n",
    "# oof_cat_train = pd.read_pickle('./oof/cat_StratifiedKFold_06061151depth5_pl_train.pkl')\n",
    "# oof_cat_train_minmax = pd.read_pickle('./oof/cat_StratifiedKFold_06061151depth5_pl_train_minmax.pkl')\n",
    "# oof_cat_train_normalized = pd.read_pickle('./oof/cat_StratifiedKFold_06061151depth5_pl_train_normalized.pkl')\n",
    "\n",
    "oof_cat_train = pd.read_pickle('./oof/cat_StratifiedKFold_06061405depth5_pl_train.pkl')\n",
    "oof_cat_train_minmax = pd.read_pickle('./oof/cat_StratifiedKFold_06061405depth5_pl_train_minmax.pkl')\n",
    "oof_cat_train_normalized = pd.read_pickle('./oof/cat_StratifiedKFold_06061405depth5_pl_train_normalized.pkl')\n",
    "\n",
    "oof_lgb_pl_catlgb_train = pd.read_pickle('./oof/lgb_StratifiedKFold_06061325cat_lgbm_pl45_55_add_train.pkl')\n",
    "oof_lgb_pl_catlgb_train_minmax = pd.read_pickle('./oof/lgb_StratifiedKFold_06061325cat_lgbm_pl45_55_add_train_minmax.pkl')\n",
    "oof_lgb_pl_catlgb_train_normalized = pd.read_pickle('./oof/lgb_StratifiedKFold_06061325cat_lgbm_pl45_55_add_train_normalized.pkl')"
   ]
  },
  {
   "cell_type": "code",
   "execution_count": 164,
   "metadata": {},
   "outputs": [],
   "source": [
    "# 正解ラベルのロード\n",
    "train_y = pd.read_pickle(FEATURE_DIR_NAME + 'y_train.pkl')"
   ]
  },
  {
   "cell_type": "code",
   "execution_count": 165,
   "metadata": {},
   "outputs": [
    {
     "data": {
      "text/plain": [
       "0    7200\n",
       "1     236\n",
       "Name: target, dtype: int64"
      ]
     },
     "execution_count": 165,
     "metadata": {},
     "output_type": "execute_result"
    }
   ],
   "source": [
    "train_y['target'].value_counts()"
   ]
  },
  {
   "cell_type": "markdown",
   "metadata": {},
   "source": [
    "## PLありのLightGBM"
   ]
  },
  {
   "cell_type": "code",
   "execution_count": 167,
   "metadata": {},
   "outputs": [
    {
     "name": "stdout",
     "output_type": "stream",
     "text": [
      "default:\t0.9051061160048421 \n",
      "min_max:\t0.904967585678312 \n",
      "StandardScaler:\t0.9051613415697916\n"
     ]
    }
   ],
   "source": [
    "print(\n",
    "    f'default:\\t{average_precision_score(train_y, oof_lgb_train)}',\n",
    "    f'\\nmin_max:\\t{average_precision_score(train_y, oof_lgb_train_minmax)}',\n",
    "    f'\\nStandardScaler:\\t{average_precision_score(train_y, oof_lgb_train_normalized)}'\n",
    ")"
   ]
  },
  {
   "cell_type": "markdown",
   "metadata": {},
   "source": [
    "## PLありのCatboost"
   ]
  },
  {
   "cell_type": "code",
   "execution_count": 168,
   "metadata": {},
   "outputs": [
    {
     "name": "stdout",
     "output_type": "stream",
     "text": [
      "default:\t0.8871612665239644 \n",
      "min_max:\t0.8887905618104579 \n",
      "StandardScaler:\t0.8902497235225347\n"
     ]
    }
   ],
   "source": [
    "print(\n",
    "    f'default:\\t{average_precision_score(train_y, oof_cat_train)}',\n",
    "    f'\\nmin_max:\\t{average_precision_score(train_y, oof_cat_train_minmax)}',\n",
    "    f'\\nStandardScaler:\\t{average_precision_score(train_y, oof_cat_train_normalized)}'\n",
    ")"
   ]
  },
  {
   "cell_type": "markdown",
   "metadata": {},
   "source": [
    "## 上記2つをブレンド"
   ]
  },
  {
   "cell_type": "code",
   "execution_count": 173,
   "metadata": {},
   "outputs": [],
   "source": [
    "# ブレンド\n",
    "oof_blend = oof_lgb_train*0.9 + oof_cat_train*0.1\n",
    "oof_blend_minmax = oof_lgb_train_minmax*0.55 + oof_cat_train_minmax*0.45\n",
    "oof_blend_ss = oof_lgb_train_normalized*0.55 + oof_cat_train_normalized*0.45"
   ]
  },
  {
   "cell_type": "code",
   "execution_count": 174,
   "metadata": {},
   "outputs": [
    {
     "name": "stdout",
     "output_type": "stream",
     "text": [
      "default:\t0.9049052791334014 \n",
      "min_max:\t0.9037320752910738 \n",
      "StandardScaler:\t0.9049944919593425\n"
     ]
    }
   ],
   "source": [
    "print(\n",
    "    f'default:\\t{average_precision_score(train_y, oof_blend)}',\n",
    "    f'\\nmin_max:\\t{average_precision_score(train_y, oof_blend_minmax)}',\n",
    "    f'\\nStandardScaler:\\t{average_precision_score(train_y, oof_blend_ss)}'\n",
    ")"
   ]
  },
  {
   "cell_type": "markdown",
   "metadata": {},
   "source": [
    "## 上記ブレンドデータをPLデータとして追加したLGBM"
   ]
  },
  {
   "cell_type": "code",
   "execution_count": 157,
   "metadata": {},
   "outputs": [
    {
     "name": "stdout",
     "output_type": "stream",
     "text": [
      "default:\t0.9069293428460025 \n",
      "min_max:\t0.9059888562757371 \n",
      "StandardScaler:\t0.9075442254923912\n"
     ]
    }
   ],
   "source": [
    "print(\n",
    "    f'default:\\t{average_precision_score(train_y, oof_lgb_pl_catlgb_train)}',\n",
    "    f'\\nmin_max:\\t{average_precision_score(train_y, oof_lgb_pl_catlgb_train_minmax)}',\n",
    "    f'\\nStandardScaler:\\t{average_precision_score(train_y, oof_lgb_pl_catlgb_train_normalized)}'\n",
    ")"
   ]
  },
  {
   "cell_type": "markdown",
   "metadata": {},
   "source": [
    "## camaroさんのoof"
   ]
  },
  {
   "cell_type": "code",
   "execution_count": 158,
   "metadata": {},
   "outputs": [
    {
     "name": "stdout",
     "output_type": "stream",
     "text": [
      "0.8940894204355896 \n",
      "0.8936653815051839\n"
     ]
    }
   ],
   "source": [
    "print(\n",
    "    f'{average_precision_score(train_y, camaro_48)}',\n",
    "    f'\\n{average_precision_score(train_y, camaro_66)}'\n",
    ")"
   ]
  },
  {
   "cell_type": "code",
   "execution_count": null,
   "metadata": {},
   "outputs": [],
   "source": []
  },
  {
   "cell_type": "code",
   "execution_count": null,
   "metadata": {},
   "outputs": [],
   "source": []
  },
  {
   "cell_type": "code",
   "execution_count": null,
   "metadata": {},
   "outputs": [],
   "source": []
  },
  {
   "cell_type": "code",
   "execution_count": null,
   "metadata": {},
   "outputs": [],
   "source": []
  },
  {
   "cell_type": "code",
   "execution_count": null,
   "metadata": {},
   "outputs": [],
   "source": []
  },
  {
   "cell_type": "code",
   "execution_count": null,
   "metadata": {},
   "outputs": [],
   "source": []
  },
  {
   "cell_type": "code",
   "execution_count": 72,
   "metadata": {},
   "outputs": [
    {
     "data": {
      "text/html": [
       "<div>\n",
       "<style scoped>\n",
       "    .dataframe tbody tr th:only-of-type {\n",
       "        vertical-align: middle;\n",
       "    }\n",
       "\n",
       "    .dataframe tbody tr th {\n",
       "        vertical-align: top;\n",
       "    }\n",
       "\n",
       "    .dataframe thead th {\n",
       "        text-align: right;\n",
       "    }\n",
       "</style>\n",
       "<table border=\"1\" class=\"dataframe\">\n",
       "  <thead>\n",
       "    <tr style=\"text-align: right;\">\n",
       "      <th></th>\n",
       "      <th>0</th>\n",
       "    </tr>\n",
       "  </thead>\n",
       "  <tbody>\n",
       "    <tr>\n",
       "      <th>0</th>\n",
       "      <td>0.0000171599</td>\n",
       "    </tr>\n",
       "    <tr>\n",
       "      <th>1</th>\n",
       "      <td>0.0046559672</td>\n",
       "    </tr>\n",
       "    <tr>\n",
       "      <th>2</th>\n",
       "      <td>0.0000889775</td>\n",
       "    </tr>\n",
       "    <tr>\n",
       "      <th>3</th>\n",
       "      <td>0.0000067947</td>\n",
       "    </tr>\n",
       "    <tr>\n",
       "      <th>4</th>\n",
       "      <td>0.0004675498</td>\n",
       "    </tr>\n",
       "  </tbody>\n",
       "</table>\n",
       "</div>"
      ],
      "text/plain": [
       "             0\n",
       "0 0.0000171599\n",
       "1 0.0046559672\n",
       "2 0.0000889775\n",
       "3 0.0000067947\n",
       "4 0.0004675498"
      ]
     },
     "metadata": {},
     "output_type": "display_data"
    },
    {
     "data": {
      "text/plain": [
       "(7436, 1)"
      ]
     },
     "metadata": {},
     "output_type": "display_data"
    }
   ],
   "source": [
    "display(oof_train.head(), oof_train.shape)"
   ]
  },
  {
   "cell_type": "code",
   "execution_count": 73,
   "metadata": {},
   "outputs": [
    {
     "data": {
      "text/html": [
       "<div>\n",
       "<style scoped>\n",
       "    .dataframe tbody tr th:only-of-type {\n",
       "        vertical-align: middle;\n",
       "    }\n",
       "\n",
       "    .dataframe tbody tr th {\n",
       "        vertical-align: top;\n",
       "    }\n",
       "\n",
       "    .dataframe thead th {\n",
       "        text-align: right;\n",
       "    }\n",
       "</style>\n",
       "<table border=\"1\" class=\"dataframe\">\n",
       "  <thead>\n",
       "    <tr style=\"text-align: right;\">\n",
       "      <th></th>\n",
       "      <th>0</th>\n",
       "    </tr>\n",
       "  </thead>\n",
       "  <tbody>\n",
       "    <tr>\n",
       "      <th>0</th>\n",
       "      <td>-0.0292912292</td>\n",
       "    </tr>\n",
       "    <tr>\n",
       "      <th>1</th>\n",
       "      <td>-0.0239382916</td>\n",
       "    </tr>\n",
       "    <tr>\n",
       "      <th>2</th>\n",
       "      <td>-0.0285083757</td>\n",
       "    </tr>\n",
       "    <tr>\n",
       "      <th>3</th>\n",
       "      <td>-0.0301629981</td>\n",
       "    </tr>\n",
       "    <tr>\n",
       "      <th>4</th>\n",
       "      <td>-0.0297020539</td>\n",
       "    </tr>\n",
       "  </tbody>\n",
       "</table>\n",
       "</div>"
      ],
      "text/plain": [
       "              0\n",
       "0 -0.0292912292\n",
       "1 -0.0239382916\n",
       "2 -0.0285083757\n",
       "3 -0.0301629981\n",
       "4 -0.0297020539"
      ]
     },
     "metadata": {},
     "output_type": "display_data"
    },
    {
     "data": {
      "text/plain": [
       "(7436, 1)"
      ]
     },
     "metadata": {},
     "output_type": "display_data"
    }
   ],
   "source": [
    "display(oof_train_minmax.head(), oof_train_minmax.shape)"
   ]
  },
  {
   "cell_type": "code",
   "execution_count": 74,
   "metadata": {},
   "outputs": [
    {
     "data": {
      "text/html": [
       "<div>\n",
       "<style scoped>\n",
       "    .dataframe tbody tr th:only-of-type {\n",
       "        vertical-align: middle;\n",
       "    }\n",
       "\n",
       "    .dataframe tbody tr th {\n",
       "        vertical-align: top;\n",
       "    }\n",
       "\n",
       "    .dataframe thead th {\n",
       "        text-align: right;\n",
       "    }\n",
       "</style>\n",
       "<table border=\"1\" class=\"dataframe\">\n",
       "  <thead>\n",
       "    <tr style=\"text-align: right;\">\n",
       "      <th></th>\n",
       "      <th>0</th>\n",
       "    </tr>\n",
       "  </thead>\n",
       "  <tbody>\n",
       "    <tr>\n",
       "      <th>0</th>\n",
       "      <td>-0.1959036281</td>\n",
       "    </tr>\n",
       "    <tr>\n",
       "      <th>1</th>\n",
       "      <td>-0.1644406145</td>\n",
       "    </tr>\n",
       "    <tr>\n",
       "      <th>2</th>\n",
       "      <td>-0.1958341429</td>\n",
       "    </tr>\n",
       "    <tr>\n",
       "      <th>3</th>\n",
       "      <td>-0.1967369047</td>\n",
       "    </tr>\n",
       "    <tr>\n",
       "      <th>4</th>\n",
       "      <td>-0.1937304147</td>\n",
       "    </tr>\n",
       "  </tbody>\n",
       "</table>\n",
       "</div>"
      ],
      "text/plain": [
       "              0\n",
       "0 -0.1959036281\n",
       "1 -0.1644406145\n",
       "2 -0.1958341429\n",
       "3 -0.1967369047\n",
       "4 -0.1937304147"
      ]
     },
     "metadata": {},
     "output_type": "display_data"
    },
    {
     "data": {
      "text/plain": [
       "(7436, 1)"
      ]
     },
     "metadata": {},
     "output_type": "display_data"
    }
   ],
   "source": [
    "display(oof_train_normalized.head(), oof_train_normalized.shape)"
   ]
  },
  {
   "cell_type": "code",
   "execution_count": 75,
   "metadata": {},
   "outputs": [
    {
     "data": {
      "text/html": [
       "<div>\n",
       "<style scoped>\n",
       "    .dataframe tbody tr th:only-of-type {\n",
       "        vertical-align: middle;\n",
       "    }\n",
       "\n",
       "    .dataframe tbody tr th {\n",
       "        vertical-align: top;\n",
       "    }\n",
       "\n",
       "    .dataframe thead th {\n",
       "        text-align: right;\n",
       "    }\n",
       "</style>\n",
       "<table border=\"1\" class=\"dataframe\">\n",
       "  <thead>\n",
       "    <tr style=\"text-align: right;\">\n",
       "      <th></th>\n",
       "      <th>0</th>\n",
       "    </tr>\n",
       "  </thead>\n",
       "  <tbody>\n",
       "    <tr>\n",
       "      <th>count</th>\n",
       "      <td>7436.0000000000</td>\n",
       "    </tr>\n",
       "    <tr>\n",
       "      <th>mean</th>\n",
       "      <td>0.0286172907</td>\n",
       "    </tr>\n",
       "    <tr>\n",
       "      <th>std</th>\n",
       "      <td>0.1484364213</td>\n",
       "    </tr>\n",
       "    <tr>\n",
       "      <th>min</th>\n",
       "      <td>0.0000000111</td>\n",
       "    </tr>\n",
       "    <tr>\n",
       "      <th>25%</th>\n",
       "      <td>0.0000318658</td>\n",
       "    </tr>\n",
       "    <tr>\n",
       "      <th>50%</th>\n",
       "      <td>0.0001977353</td>\n",
       "    </tr>\n",
       "    <tr>\n",
       "      <th>75%</th>\n",
       "      <td>0.0011133245</td>\n",
       "    </tr>\n",
       "    <tr>\n",
       "      <th>max</th>\n",
       "      <td>0.9996744061</td>\n",
       "    </tr>\n",
       "  </tbody>\n",
       "</table>\n",
       "</div>"
      ],
      "text/plain": [
       "                    0\n",
       "count 7436.0000000000\n",
       "mean     0.0286172907\n",
       "std      0.1484364213\n",
       "min      0.0000000111\n",
       "25%      0.0000318658\n",
       "50%      0.0001977353\n",
       "75%      0.0011133245\n",
       "max      0.9996744061"
      ]
     },
     "execution_count": 75,
     "metadata": {},
     "output_type": "execute_result"
    }
   ],
   "source": [
    "oof_train.describe()"
   ]
  },
  {
   "cell_type": "code",
   "execution_count": 76,
   "metadata": {},
   "outputs": [
    {
     "data": {
      "text/html": [
       "<div>\n",
       "<style scoped>\n",
       "    .dataframe tbody tr th:only-of-type {\n",
       "        vertical-align: middle;\n",
       "    }\n",
       "\n",
       "    .dataframe tbody tr th {\n",
       "        vertical-align: top;\n",
       "    }\n",
       "\n",
       "    .dataframe thead th {\n",
       "        text-align: right;\n",
       "    }\n",
       "</style>\n",
       "<table border=\"1\" class=\"dataframe\">\n",
       "  <thead>\n",
       "    <tr style=\"text-align: right;\">\n",
       "      <th></th>\n",
       "      <th>0</th>\n",
       "    </tr>\n",
       "  </thead>\n",
       "  <tbody>\n",
       "    <tr>\n",
       "      <th>count</th>\n",
       "      <td>7436.0000000000</td>\n",
       "    </tr>\n",
       "    <tr>\n",
       "      <th>mean</th>\n",
       "      <td>0.0000000000</td>\n",
       "    </tr>\n",
       "    <tr>\n",
       "      <th>std</th>\n",
       "      <td>0.1485130290</td>\n",
       "    </tr>\n",
       "    <tr>\n",
       "      <th>min</th>\n",
       "      <td>-0.0301697585</td>\n",
       "    </tr>\n",
       "    <tr>\n",
       "      <th>25%</th>\n",
       "      <td>-0.0291454888</td>\n",
       "    </tr>\n",
       "    <tr>\n",
       "      <th>50%</th>\n",
       "      <td>-0.0284382857</td>\n",
       "    </tr>\n",
       "    <tr>\n",
       "      <th>75%</th>\n",
       "      <td>-0.0262232821</td>\n",
       "    </tr>\n",
       "    <tr>\n",
       "      <th>max</th>\n",
       "      <td>0.9737119118</td>\n",
       "    </tr>\n",
       "  </tbody>\n",
       "</table>\n",
       "</div>"
      ],
      "text/plain": [
       "                    0\n",
       "count 7436.0000000000\n",
       "mean     0.0000000000\n",
       "std      0.1485130290\n",
       "min     -0.0301697585\n",
       "25%     -0.0291454888\n",
       "50%     -0.0284382857\n",
       "75%     -0.0262232821\n",
       "max      0.9737119118"
      ]
     },
     "execution_count": 76,
     "metadata": {},
     "output_type": "execute_result"
    }
   ],
   "source": [
    "oof_train_minmax.describe()"
   ]
  },
  {
   "cell_type": "code",
   "execution_count": 77,
   "metadata": {},
   "outputs": [
    {
     "data": {
      "text/html": [
       "<div>\n",
       "<style scoped>\n",
       "    .dataframe tbody tr th:only-of-type {\n",
       "        vertical-align: middle;\n",
       "    }\n",
       "\n",
       "    .dataframe tbody tr th {\n",
       "        vertical-align: top;\n",
       "    }\n",
       "\n",
       "    .dataframe thead th {\n",
       "        text-align: right;\n",
       "    }\n",
       "</style>\n",
       "<table border=\"1\" class=\"dataframe\">\n",
       "  <thead>\n",
       "    <tr style=\"text-align: right;\">\n",
       "      <th></th>\n",
       "      <th>0</th>\n",
       "    </tr>\n",
       "  </thead>\n",
       "  <tbody>\n",
       "    <tr>\n",
       "      <th>count</th>\n",
       "      <td>7436.0000000000</td>\n",
       "    </tr>\n",
       "    <tr>\n",
       "      <th>mean</th>\n",
       "      <td>0.0000000000</td>\n",
       "    </tr>\n",
       "    <tr>\n",
       "      <th>std</th>\n",
       "      <td>1.0000672472</td>\n",
       "    </tr>\n",
       "    <tr>\n",
       "      <th>min</th>\n",
       "      <td>-0.1967809986</td>\n",
       "    </tr>\n",
       "    <tr>\n",
       "      <th>25%</th>\n",
       "      <td>-0.1956347970</td>\n",
       "    </tr>\n",
       "    <tr>\n",
       "      <th>50%</th>\n",
       "      <td>-0.1920875646</td>\n",
       "    </tr>\n",
       "    <tr>\n",
       "      <th>75%</th>\n",
       "      <td>-0.1802093929</td>\n",
       "    </tr>\n",
       "    <tr>\n",
       "      <th>max</th>\n",
       "      <td>6.7037630318</td>\n",
       "    </tr>\n",
       "  </tbody>\n",
       "</table>\n",
       "</div>"
      ],
      "text/plain": [
       "                    0\n",
       "count 7436.0000000000\n",
       "mean     0.0000000000\n",
       "std      1.0000672472\n",
       "min     -0.1967809986\n",
       "25%     -0.1956347970\n",
       "50%     -0.1920875646\n",
       "75%     -0.1802093929\n",
       "max      6.7037630318"
      ]
     },
     "execution_count": 77,
     "metadata": {},
     "output_type": "execute_result"
    }
   ],
   "source": [
    "oof_train_normalized.describe()"
   ]
  },
  {
   "cell_type": "code",
   "execution_count": null,
   "metadata": {},
   "outputs": [],
   "source": []
  }
 ],
 "metadata": {
  "kernelspec": {
   "display_name": "Python 3",
   "language": "python",
   "name": "python3"
  },
  "language_info": {
   "codemirror_mode": {
    "name": "ipython",
    "version": 3
   },
   "file_extension": ".py",
   "mimetype": "text/x-python",
   "name": "python",
   "nbconvert_exporter": "python",
   "pygments_lexer": "ipython3",
   "version": "3.7.2"
  }
 },
 "nbformat": 4,
 "nbformat_minor": 4
}
