{
 "cells": [
  {
   "cell_type": "code",
   "execution_count": 1,
   "metadata": {},
   "outputs": [],
   "source": [
    "import sys\n",
    "import os\n",
    "import datetime\n",
    "import yaml"
   ]
  },
  {
   "cell_type": "code",
   "execution_count": 9,
   "metadata": {},
   "outputs": [],
   "source": [
    "CONFIG_FILE = '../configs/config.yaml'\n",
    "with open(CONFIG_FILE) as file:\n",
    "    yml = yaml.load(file)"
   ]
  },
  {
   "cell_type": "code",
   "execution_count": 10,
   "metadata": {},
   "outputs": [
    {
     "data": {
      "text/plain": [
       "'../models/'"
      ]
     },
     "execution_count": 10,
     "metadata": {},
     "output_type": "execute_result"
    }
   ],
   "source": [
    "yml['SETTING']['MODEL_DIR_NAME']"
   ]
  },
  {
   "cell_type": "code",
   "execution_count": 11,
   "metadata": {},
   "outputs": [
    {
     "data": {
      "text/plain": [
       "'../data/features/'"
      ]
     },
     "execution_count": 11,
     "metadata": {},
     "output_type": "execute_result"
    }
   ],
   "source": [
    "yml['SETTING']['FEATURE_DIR_NAME']"
   ]
  },
  {
   "cell_type": "code",
   "execution_count": 12,
   "metadata": {},
   "outputs": [
    {
     "data": {
      "text/plain": [
       "{'method': 'StratifiedKFold',\n",
       " 'n_splits': 3,\n",
       " 'random_state': 42,\n",
       " 'shuffle': True,\n",
       " 'cv_target_gr': 'chip_id',\n",
       " 'cv_target_sf': 'target'}"
      ]
     },
     "execution_count": 12,
     "metadata": {},
     "output_type": "execute_result"
    }
   ],
   "source": [
    "yml['SETTING']['CV']"
   ]
  },
  {
   "cell_type": "code",
   "execution_count": 13,
   "metadata": {},
   "outputs": [
    {
     "data": {
      "text/plain": [
       "{'objective': 'binary',\n",
       " 'metric': 'None',\n",
       " 'boosting': 'gbdt',\n",
       " 'lambda_l1': 1.2812997446158112,\n",
       " 'lambda_l2': 0.04132762476340549,\n",
       " 'num_leaves': 2,\n",
       " 'feature_fraction': 0.8839999999999999,\n",
       " 'bagging_fraction': 1.0,\n",
       " 'bagging_freq': 0,\n",
       " 'min_child_samples': 100,\n",
       " 'verbose': -1,\n",
       " 'num_round': 4000,\n",
       " 'early_stopping_rounds': 400,\n",
       " 'verbose_eval': 200,\n",
       " 'bagging_seed': 42,\n",
       " 'feature_fraction_seed': 42,\n",
       " 'drop_seed': 42,\n",
       " 'seed': 42}"
      ]
     },
     "execution_count": 13,
     "metadata": {},
     "output_type": "execute_result"
    }
   ],
   "source": [
    "yml['MODEL_LGB']['PARAM']"
   ]
  },
  {
   "cell_type": "code",
   "execution_count": 15,
   "metadata": {},
   "outputs": [
    {
     "data": {
      "text/plain": [
       "{'loss_function': 'Logloss',\n",
       " 'eval_metric': 'AUC',\n",
       " 'learning_rate': 0.05,\n",
       " 'iterations': 100,\n",
       " 'early_stopping_rounds': 100,\n",
       " 'random_seed': 42,\n",
       " 'verbose_eval': 100,\n",
       " 'depth': 2,\n",
       " 'pred_type': 'Classifier'}"
      ]
     },
     "execution_count": 15,
     "metadata": {},
     "output_type": "execute_result"
    }
   ],
   "source": [
    "params = dict(yml['MODEL_CB']['PARAM'])\n",
    "params"
   ]
  },
  {
   "cell_type": "code",
   "execution_count": 16,
   "metadata": {},
   "outputs": [
    {
     "data": {
      "text/plain": [
       "'Classifier'"
      ]
     },
     "execution_count": 16,
     "metadata": {},
     "output_type": "execute_result"
    }
   ],
   "source": [
    "params.pop('pred_type')"
   ]
  },
  {
   "cell_type": "code",
   "execution_count": null,
   "metadata": {},
   "outputs": [],
   "source": []
  }
 ],
 "metadata": {
  "kernelspec": {
   "display_name": "Python 3",
   "language": "python",
   "name": "python3"
  },
  "language_info": {
   "codemirror_mode": {
    "name": "ipython",
    "version": 3
   },
   "file_extension": ".py",
   "mimetype": "text/x-python",
   "name": "python",
   "nbconvert_exporter": "python",
   "pygments_lexer": "ipython3",
   "version": "3.7.2"
  }
 },
 "nbformat": 4,
 "nbformat_minor": 4
}
